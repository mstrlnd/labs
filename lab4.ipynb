{
 "cells": [
  {
   "cell_type": "code",
   "execution_count": null,
   "id": "1f56a6b6-e290-45b9-bcf5-39806d9d41d2",
   "metadata": {},
   "outputs": [],
   "source": [
    "#imports\n",
    "import pandas as pd\n",
    "import seaborn as sns\n",
    "import matplotlib.pylab as plt"
   ]
  },
  {
   "cell_type": "code",
   "execution_count": null,
   "id": "8cf87a0c-0744-4501-9da4-ef916129880e",
   "metadata": {},
   "outputs": [],
   "source": [
    "#load data\n",
    "df = pd.read_csv('cdc.csv')\n",
    "#number of rows of data and the number of variables - How many rows are there?  How many variables?\n",
    "df.shape"
   ]
  },
  {
   "cell_type": "code",
   "execution_count": null,
   "id": "ffde42be-eb1f-40b2-9416-041a5062d64c",
   "metadata": {},
   "outputs": [],
   "source": [
    "#preview the first 5 rows of data (some variables might get cut off)\n",
    "df.head()"
   ]
  },
  {
   "cell_type": "code",
   "execution_count": null,
   "id": "402ebc3a-9fad-4408-9bd6-686f07516198",
   "metadata": {},
   "outputs": [],
   "source": [
    "#Check the datatypes.  \"object\" is categorical.  \"int64\" and \"float64\" are numerical \n",
    "df.dtypes"
   ]
  },
  {
   "cell_type": "code",
   "execution_count": null,
   "id": "14bdff7e-f2f5-45bc-84fe-0cbac1d09aa2",
   "metadata": {},
   "outputs": [],
   "source": [
    "#See the different categories for a categorial variable and their counts\n",
    "df['eat_salad'].value_counts()"
   ]
  },
  {
   "cell_type": "code",
   "execution_count": null,
   "id": "60ac6d1c-6790-4833-b933-bcbe1720bc75",
   "metadata": {},
   "outputs": [],
   "source": [
    "#Make a 2-way frequency table comparing two categorical variables\n",
    "pd.crosstab(index=df['eat_salad'], columns=df['days_exercise_60'])\n"
   ]
  },
  {
   "cell_type": "code",
   "execution_count": null,
   "id": "13f22506-b8a6-4df6-b469-56d8fc7a53c4",
   "metadata": {},
   "outputs": [],
   "source": [
    "#2 way frequency table with the totals\n",
    "pd.crosstab(index=df['eat_salad'], columns=df['days_exercise_60'], margins=True)\n"
   ]
  },
  {
   "cell_type": "code",
   "execution_count": null,
   "id": "bdd6736e-64ee-4580-93dc-bf2782ac5253",
   "metadata": {},
   "outputs": [],
   "source": [
    "#Relative 2 way frequency table (precentages)\n",
    "tab = pd.crosstab(index=df['eat_salad'], columns=df['days_exercise_60'], margins=True)\n",
    "tab = tab/tab.loc['All','All']*100\n",
    "tab"
   ]
  },
  {
   "cell_type": "code",
   "execution_count": null,
   "id": "8b953a54-6367-42be-a0e8-be89c68d9d7b",
   "metadata": {},
   "outputs": [],
   "source": [
    "#Heat Map of 2 way frequency table\n",
    "#Find more color schemes here: https://matplotlib.org/stable/tutorials/colors/colormaps.html\n",
    "tab = pd.crosstab(index=df['eat_salad'], columns=df['days_exercise_60'])\n",
    "plot = sns.heatmap(tab, annot=True, cmap=\"crest\", fmt='g')\n",
    "plot.set_xticklabels(plot.get_xticklabels(), rotation=75)"
   ]
  },
  {
   "cell_type": "markdown",
   "id": "724cfa81-353a-4c27-a85a-da0265c01854",
   "metadata": {},
   "source": [
    "This Blocks is just text not code.<br>\n",
    "Data Cycle<br>\n",
    "1. Write a Statistical question<br>\n",
    "2. Make a 2 way frequency table (can be relative) \n",
    "3. Make a Heat Map\n",
    "4. Write your interpretation<br>"
   ]
  },
  {
   "cell_type": "code",
   "execution_count": null,
   "id": "a4ac10fe-c736-473f-a06c-4a5ca4a0c23e",
   "metadata": {},
   "outputs": [],
   "source": []
  }
 ],
 "metadata": {
  "kernelspec": {
   "display_name": "Python 3 (ipykernel)",
   "language": "python",
   "name": "python3"
  },
  "language_info": {
   "codemirror_mode": {
    "name": "ipython",
    "version": 3
   },
   "file_extension": ".py",
   "mimetype": "text/x-python",
   "name": "python",
   "nbconvert_exporter": "python",
   "pygments_lexer": "ipython3",
   "version": "3.9.12"
  }
 },
 "nbformat": 4,
 "nbformat_minor": 5
}
